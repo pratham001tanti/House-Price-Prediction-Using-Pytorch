{
 "cells": [
  {
   "metadata": {},
   "cell_type": "markdown",
   "source": "## House Price Prediction using Pytorch\n",
   "id": "d23868280d2e083e"
  },
  {
   "metadata": {
    "ExecuteTime": {
     "end_time": "2025-08-05T22:32:41.780356Z",
     "start_time": "2025-08-05T22:32:41.408738Z"
    }
   },
   "cell_type": "code",
   "source": [
    "import pandas as pd\n",
    "import numpy as np"
   ],
   "id": "80dd1fdd55ba49d1",
   "outputs": [],
   "execution_count": 1
  },
  {
   "metadata": {
    "ExecuteTime": {
     "end_time": "2025-08-05T22:32:50.341611Z",
     "start_time": "2025-08-05T22:32:50.323940Z"
    }
   },
   "cell_type": "code",
   "source": "df = pd.read_csv('housePrice.csv')",
   "id": "aa81fba570ef752d",
   "outputs": [],
   "execution_count": 2
  },
  {
   "metadata": {},
   "cell_type": "code",
   "outputs": [],
   "execution_count": null,
   "source": "",
   "id": "ca0de398830148e"
  }
 ],
 "metadata": {},
 "nbformat": 4,
 "nbformat_minor": 5
}
